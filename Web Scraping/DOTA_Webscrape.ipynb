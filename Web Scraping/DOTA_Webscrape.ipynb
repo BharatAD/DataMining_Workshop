{
 "cells": [
  {
   "cell_type": "code",
   "execution_count": 6,
   "metadata": {},
   "outputs": [],
   "source": [
    "# this library helps us manage data\n",
    "import pandas as pd\n",
    "# library for comprehending web documents for scraping\n",
    "from bs4 import BeautifulSoup\n",
    "# library for making requests to a webdomain for a web document\n",
    "from urllib.request import urlopen\n",
    "# regex library\n",
    "import re\n",
    "# to output and input csv data\n",
    "import csv\n",
    "# math library for random and uniform functions\n",
    "from random import randint\n",
    "from random import uniform\n",
    "# native library to enable a script to sleep or wait\n",
    "from time import sleep"
   ]
  },
  {
   "cell_type": "code",
   "execution_count": 3,
   "metadata": {},
   "outputs": [],
   "source": [
    "#reading a list of items into a list\n",
    "with open (\"full_item_list.csv\",'r') as f:\n",
    "    reader=csv.reader(f)\n",
    "    full_item_list=list(reader)"
   ]
  },
  {
   "cell_type": "code",
   "execution_count": 13,
   "metadata": {},
   "outputs": [
    {
     "data": {
      "text/html": [
       "<div>\n",
       "<style scoped>\n",
       "    .dataframe tbody tr th:only-of-type {\n",
       "        vertical-align: middle;\n",
       "    }\n",
       "\n",
       "    .dataframe tbody tr th {\n",
       "        vertical-align: top;\n",
       "    }\n",
       "\n",
       "    .dataframe thead th {\n",
       "        text-align: right;\n",
       "    }\n",
       "</style>\n",
       "<table border=\"1\" class=\"dataframe\">\n",
       "  <thead>\n",
       "    <tr style=\"text-align: right;\">\n",
       "      <th></th>\n",
       "      <th>0</th>\n",
       "      <th>1</th>\n",
       "      <th>2</th>\n",
       "    </tr>\n",
       "  </thead>\n",
       "  <tbody>\n",
       "    <tr>\n",
       "      <th>0</th>\n",
       "      <td>Item_Name</td>\n",
       "      <td>Hero_Name</td>\n",
       "      <td>Item_Type</td>\n",
       "    </tr>\n",
       "    <tr>\n",
       "      <th>1</th>\n",
       "      <td>Acolyte of Vengeance Weapon</td>\n",
       "      <td>Anti-Mage</td>\n",
       "      <td>Equipment</td>\n",
       "    </tr>\n",
       "    <tr>\n",
       "      <th>2</th>\n",
       "      <td>Ancient Crasher</td>\n",
       "      <td>Anti-Mage</td>\n",
       "      <td>Equipment</td>\n",
       "    </tr>\n",
       "    <tr>\n",
       "      <th>3</th>\n",
       "      <td>Arc of Manta</td>\n",
       "      <td>Anti-Mage</td>\n",
       "      <td>Equipment</td>\n",
       "    </tr>\n",
       "    <tr>\n",
       "      <th>4</th>\n",
       "      <td>Basher of Mage Skulls</td>\n",
       "      <td>Anti-Mage</td>\n",
       "      <td>Equipment</td>\n",
       "    </tr>\n",
       "  </tbody>\n",
       "</table>\n",
       "</div>"
      ],
      "text/plain": [
       "                             0          1          2\n",
       "0                    Item_Name  Hero_Name  Item_Type\n",
       "1  Acolyte of Vengeance Weapon  Anti-Mage  Equipment\n",
       "2              Ancient Crasher  Anti-Mage  Equipment\n",
       "3                 Arc of Manta  Anti-Mage  Equipment\n",
       "4        Basher of Mage Skulls  Anti-Mage  Equipment"
      ]
     },
     "execution_count": 13,
     "metadata": {},
     "output_type": "execute_result"
    }
   ],
   "source": [
    "#lets take a look at the full item list\n",
    "viewingpurposes=pd.DataFrame(full_item_list)\n",
    "viewingpurposes.head()\n",
    "#viewingpurposes.tail()"
   ]
  },
  {
   "cell_type": "markdown",
   "metadata": {},
   "source": [
    "I was told each item has an attribute called quality.\n",
    "quality of an item is a prefix that denotes a unique version of the item that would have a different value. Not all items have all qualitites."
   ]
  },
  {
   "cell_type": "code",
   "execution_count": 17,
   "metadata": {},
   "outputs": [],
   "source": [
    "# create a list of all item qualities\n",
    "quality = ['','Auspicious ', 'Heroic ', 'Genuine ','Frozen ', 'Cursed ', 'Base ', 'Exalted ', 'Infused ', 'Elder ', 'Legacy ', 'Unusual ', 'Corrupted ', 'Autographed ', 'Ascendant ', 'Inscribed ']"
   ]
  },
  {
   "cell_type": "markdown",
   "metadata": {},
   "source": [
    "I intending on creating a script that will iterate through each item for each of its qualities and fetch the items:\n",
    "1. price history\n",
    "2. item rarity attribute"
   ]
  },
  {
   "cell_type": "code",
   "execution_count": null,
   "metadata": {},
   "outputs": [],
   "source": [
    "#iterate through each item once\n",
    "for i in range(1,len(full_item_list),1): \n",
    "    # each item has a list of unique prefixes(quality)\n",
    "    for j in range(len(quality)):  \n",
    "        # a full item name consists of prefix(quality) and word(item name)\n",
    "        item_name=quality[j]+full_item_list[i][0]\n",
    "        # urls keeps %20 as a seperator instead of spaces\n",
    "        item_name=item_name.replace(\" \", \"%20\")\n",
    "        # each item corresponds to a particular hero\n",
    "        # we fetch the hero name from the same line as the item name\n",
    "        hero_name=full_item_list[i][1]\n",
    "        # robots.txt denotes the rules of a website\n",
    "        # scrapers usually incorporate some sort of random waiting in between each request\n",
    "        # otherwise you can potentially be blacklisted from a website\n",
    "        sleep(uniform(3.25,15.1)) #SLEEP TIMERS HERE\n",
    "        # the url we are scraping is as follows\n",
    "        # we format the url such that is dynamic to each request we are making\n",
    "        url='https://steamcommunity.com/market/listings/570/{}'.format(item_name)\n",
    "        #BeautifulSoup reads the web document and stores it as a BS Object\n",
    "        soup=BeautifulSoup(urlopen(url), \"lxml\")\n",
    "        # from the bs object we want to isolate a particular \n",
    "        # chunk of text with the data we are interested in\n",
    "        scriptchunk=soup.find_all('script')[21].string\n",
    "        #split the lines\n",
    "        lines=scriptchunk.split('\\n')\n",
    "        #debugging mechanism for invalid requests\n",
    "        print(item_name)\n",
    "        if len(lines)<50:\n",
    "            continue\n",
    "        else:\n",
    "            #Fetch item_name price history\n",
    "            data1=lines[66]\n",
    "            #regex magic and instantiating prices variable\n",
    "            prices=re.findall(r\"\\[[^[]*[^]]\\]\", data1)\n",
    "            #converting the regex isolated string to an array\n",
    "            for j in range(len(prices)):\n",
    "                prices[j] = eval(prices[j])\n",
    "            \n",
    "            ##GET item_rarity\n",
    "            patterns = ['Common', 'Uncommon', 'Rare', 'Mythical','Immortal', 'Legendary', 'Arcana', 'Ancient']\n",
    "            #i nstantiating an empty list where we append the items rarity\n",
    "            # remember we want to output an items rarity as well as its price\n",
    "            rarity = [] #setting up the list\n",
    "            for pattern in patterns:\n",
    "                #print('Looking for \"%s\" in text ->' % (pattern), end=' ')\n",
    "                if re.search(pattern, lines[2]):\n",
    "                    #print('found a match!')\n",
    "                    rarity.append(1)\n",
    "                else:\n",
    "                    #print('no match')\n",
    "                    rarity.append(0)\n",
    "            #parsing the rarity list        \n",
    "            total_sum = sum(rarity)\n",
    "            if (total_sum ==1): #which is the default case\n",
    "                item_rarity = patterns[rarity.index(1)]\n",
    "                #print(item_rarity) \n",
    "            else:\n",
    "                print(\"multiple rarities detected\")\n",
    "                item_rarity='error'\n",
    "                \n",
    "            #outputting out data\n",
    "            with open(\"{}_{}.csv\".format(hero_name,item_name),\"w\", newline='')as f:\n",
    "                    writer=csv.writer(f)\n",
    "                    writer.writerow([\"Datetime\",\"Price\",\"Index No.\",\"Item Rarity\"])\n",
    "                    for k in range(len(prices)):\n",
    "                        output = []\n",
    "                        for m in prices[k]:\n",
    "                            output.append(m)\n",
    "                        output.append(item_rarity)\n",
    "                        writer.writerow(output)\n",
    "            "
   ]
  }
 ],
 "metadata": {
  "kernelspec": {
   "display_name": "Python 3",
   "language": "python",
   "name": "python3"
  },
  "language_info": {
   "codemirror_mode": {
    "name": "ipython",
    "version": 3
   },
   "file_extension": ".py",
   "mimetype": "text/x-python",
   "name": "python",
   "nbconvert_exporter": "python",
   "pygments_lexer": "ipython3",
   "version": "3.6.4"
  }
 },
 "nbformat": 4,
 "nbformat_minor": 2
}
